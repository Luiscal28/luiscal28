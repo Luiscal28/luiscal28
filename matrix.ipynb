{
  "cells": [
    {
      "cell_type": "markdown",
      "metadata": {
        "id": "view-in-github",
        "colab_type": "text"
      },
      "source": [
        "<a href=\"https://colab.research.google.com/github/Luiscal28/luiscal28/blob/luiscal28's-branch/matrix.ipynb\" target=\"_parent\"><img src=\"https://colab.research.google.com/assets/colab-badge.svg\" alt=\"Open In Colab\"/></a>"
      ]
    },
    {
      "source": [
        "matrix=[]\n",
        "rows = 3\n",
        "columns = 3\n",
        "counter = 1\n",
        "\n",
        "for i in range(rows):\n",
        "    temp_rows = []\n",
        "    for j in range(columns):\n",
        "        temp_rows.append(counter)\n",
        "        counter += 1\n",
        "    matrix.append(temp_rows)\n",
        "\n",
        "#print(matrix)\n",
        "matrix_rows = len(matrix)\n",
        "if matrix_rows > 0:\n",
        "  matrix_columns = len(matrix[0])\n",
        "for i in range(len(matrix)):\n",
        "    for j in range(len(matrix[i])):\n",
        "      print(matrix[i][j], end=\" \")\n",
        "    print()"
      ],
      "cell_type": "code",
      "metadata": {
        "id": "3nhAQMsmsyYq",
        "outputId": "b5548085-637a-47d5-ee6e-721149ef671c",
        "colab": {
          "base_uri": "https://localhost:8080/"
        }
      },
      "execution_count": 1,
      "outputs": [
        {
          "output_type": "stream",
          "name": "stdout",
          "text": [
            "1 2 3 \n",
            "4 5 6 \n",
            "7 8 9 \n"
          ]
        }
      ]
    },
    {
      "source": [
        "path = '/content/secret_message.txt'\n",
        "with open(path) as file_info:\n",
        "  message = file_info.read()\n",
        "\n",
        "print(message)"
      ],
      "cell_type": "code",
      "metadata": {
        "id": "yCrv-IEBJYuI"
      },
      "execution_count": null,
      "outputs": []
    },
    {
      "cell_type": "code",
      "source": [
        "path = '/content/LDLL.text'\n",
        "with open(path) as file_info:\n",
        "  message = file_info.read()\n",
        "\n",
        "print(message)"
      ],
      "metadata": {
        "id": "WGNFCUd1KC1H"
      },
      "execution_count": null,
      "outputs": []
    },
    {
      "source": [
        "import random\n",
        "\n",
        "def random_number():\n",
        "\n",
        "  random_number = random.randint(1, 20)\n",
        "  file_path = \"/content/random_number.txt\"\n",
        "  with open(file_path, \"a\") as file:\n",
        "    file.write(str(random_number))\n",
        "  return random_number\n",
        "\n",
        "random_number = random_number()\n",
        "print(\"The random number is:\", random_number)"
      ],
      "cell_type": "code",
      "metadata": {
        "id": "B0vAlvBTUJtU",
        "outputId": "9b6f5880-e0ee-4ae1-909d-5e42e3d47fb6",
        "colab": {
          "base_uri": "https://localhost:8080/"
        }
      },
      "execution_count": 23,
      "outputs": [
        {
          "output_type": "stream",
          "name": "stdout",
          "text": [
            "The random number is: 4\n"
          ]
        }
      ]
    }
  ],
  "metadata": {
    "colab": {
      "name": "Te damos la bienvenida a Colaboratory",
      "provenance": [],
      "include_colab_link": true
    },
    "kernelspec": {
      "display_name": "Python 3",
      "name": "python3"
    }
  },
  "nbformat": 4,
  "nbformat_minor": 0
}