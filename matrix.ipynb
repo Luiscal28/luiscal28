{
  "cells": [
    {
      "cell_type": "markdown",
      "metadata": {
        "id": "view-in-github",
        "colab_type": "text"
      },
      "source": [
        "<a href=\"https://colab.research.google.com/github/Luiscal28/luiscal28/blob/luiscal28's-branch/matrix.ipynb\" target=\"_parent\"><img src=\"https://colab.research.google.com/assets/colab-badge.svg\" alt=\"Open In Colab\"/></a>"
      ]
    },
    {
      "source": [
        "matrix=[]\n",
        "rows = 3\n",
        "columns = 3\n",
        "counter = 1\n",
        "\n",
        "for i in range(rows):\n",
        "    temp_rows = []\n",
        "    for j in range(columns):\n",
        "        temp_rows.append(counter)\n",
        "        counter += 1\n",
        "    matrix.append(temp_rows)\n",
        "\n",
        "#print(matrix)\n",
        "matrix_rows = len(matrix)\n",
        "if matrix_rows > 0:\n",
        "  matrix_columns = len(matrix[0])\n",
        "for i in range(len(matrix)):\n",
        "    for j in range(len(matrix[i])):\n",
        "      print(matrix[i][j], end=\" \")\n",
        "    print()"
      ],
      "cell_type": "code",
      "metadata": {
        "id": "3nhAQMsmsyYq",
        "outputId": "e7a69751-ccd7-4367-d0f9-93dba0ddba0a",
        "colab": {
          "base_uri": "https://localhost:8080/"
        }
      },
      "execution_count": 18,
      "outputs": [
        {
          "output_type": "stream",
          "name": "stdout",
          "text": [
            "1 2 3 \n",
            "4 5 6 \n",
            "7 8 9 \n"
          ]
        }
      ]
    }
  ],
  "metadata": {
    "colab": {
      "name": "Te damos la bienvenida a Colaboratory",
      "toc_visible": true,
      "provenance": [],
      "include_colab_link": true
    },
    "kernelspec": {
      "display_name": "Python 3",
      "name": "python3"
    }
  },
  "nbformat": 4,
  "nbformat_minor": 0
}