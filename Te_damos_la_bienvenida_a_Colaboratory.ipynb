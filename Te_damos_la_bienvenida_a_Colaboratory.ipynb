{
  "cells": [
    {
      "cell_type": "markdown",
      "metadata": {
        "id": "view-in-github",
        "colab_type": "text"
      },
      "source": [
        "<a href=\"https://colab.research.google.com/github/Luiscal28/luiscal28/blob/luiscal28's-branch/Te_damos_la_bienvenida_a_Colaboratory.ipynb\" target=\"_parent\"><img src=\"https://colab.research.google.com/assets/colab-badge.svg\" alt=\"Open In Colab\"/></a>"
      ]
    },
    {
      "source": [
        "import random\n",
        "\n",
        "lista_1 = ['mami ', 'bebe ', 'princess ', 'mamichula ']\n",
        "lista_2 = ['yo quiero ', 'yo puedo ', 'yo vengo a ', 'voy a ']\n",
        "lista_3 = ['jugar ', 'ligar ', 'amarte ', 'encenderte ']\n",
        "lista_4 = ['suave ', 'lento ', 'rapido ', 'fuerte ']\n",
        "lista_5 = ['todo el día ', 'hasta el amanecer ', 'toda la noche ', 'hasta que salga el sol ']\n",
        "lista_6 = ['sin anestesia ', 'sin compromiso ', ' face to face ', 'sin miedo ']\n",
        "my_data = {}\n",
        "my_data[\"lista_1\"] = lista_1\n",
        "my_data[\"lista_2\"] = lista_2\n",
        "my_data[\"lista_3\"] = lista_3\n",
        "my_data[\"lista_4\"] = lista_4\n",
        "my_data[\"lista_5\"] = lista_5\n",
        "my_data[\"lista_6\"] = lista_6\n",
        "\n",
        "def canciones_de_reguetton(my_data):\n",
        "    code = ''\n",
        "    for keys in my_data.keys():\n",
        "        code += str(random.choice(my_data[keys]))\n",
        "        return code\n",
        "\n",
        "print(canciones_de_reguetton(my_data))"
      ],
      "cell_type": "code",
      "metadata": {
        "id": "bukvR8cXs64h",
        "outputId": "49b061c3-a1c3-4cf9-fd64-a68acdd0e215",
        "colab": {
          "base_uri": "https://localhost:8080/"
        }
      },
      "execution_count": 40,
      "outputs": [
        {
          "output_type": "stream",
          "name": "stdout",
          "text": [
            "mamichula yo puedo amarte lento hasta el amanecer sin miedo \n"
          ]
        }
      ]
    },
    {
      "cell_type": "code",
      "source": [
        "print(random.choice(my_data[listas]))"
      ],
      "metadata": {
        "id": "r1ZJKk3eqEck",
        "outputId": "8e190912-e25d-41dd-80e4-0a43841a2477",
        "colab": {
          "base_uri": "https://localhost:8080/"
        }
      },
      "execution_count": 35,
      "outputs": [
        {
          "output_type": "stream",
          "name": "stdout",
          "text": [
            " face to face \n"
          ]
        }
      ]
    }
  ],
  "metadata": {
    "colab": {
      "name": "Te damos la bienvenida a Colaboratory",
      "toc_visible": true,
      "provenance": [],
      "include_colab_link": true
    },
    "kernelspec": {
      "display_name": "Python 3",
      "name": "python3"
    }
  },
  "nbformat": 4,
  "nbformat_minor": 0
}