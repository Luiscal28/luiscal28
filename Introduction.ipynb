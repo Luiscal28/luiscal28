{
  "nbformat": 4,
  "nbformat_minor": 0,
  "metadata": {
    "colab": {
      "private_outputs": true,
      "provenance": [],
      "authorship_tag": "ABX9TyPmCKRl+BtaP6PsmPr0VPyI",
      "include_colab_link": true
    },
    "kernelspec": {
      "name": "python3",
      "display_name": "Python 3"
    },
    "language_info": {
      "name": "python"
    }
  },
  "cells": [
    {
      "cell_type": "markdown",
      "metadata": {
        "id": "view-in-github",
        "colab_type": "text"
      },
      "source": [
        "<a href=\"https://colab.research.google.com/github/Mikheltodd/introductionupb202410/blob/main/Introduction.ipynb\" target=\"_parent\"><img src=\"https://colab.research.google.com/assets/colab-badge.svg\" alt=\"Open In Colab\"/></a>"
      ]
    },
    {
      "cell_type": "markdown",
      "source": [
        "# Introducción a Python\n",
        "## Fundamentos de Programación\n",
        "### Ingeniería Electrónica UPB Montería (202410)\n",
        "- Docente: Miguel Ortiz\n",
        "- email: miguel.ortizp@upb.edu.co\n"
      ],
      "metadata": {
        "id": "VZA-YfwKnBbc"
      }
    },
    {
      "cell_type": "code",
      "execution_count": null,
      "metadata": {
        "id": "egjbI1I1msBR"
      },
      "outputs": [],
      "source": [
        "# Comentarios\n",
        "\n",
        "# Todo lo que aparezca después de un # se considera un comentario\n",
        "# Sirven para:\n",
        "# - Dar información (contexto)\n",
        "# - Ayuda futura / Documentar\n",
        "# - Hacer pruebas"
      ]
    },
    {
      "cell_type": "code",
      "source": [
        "# Print\n",
        "\n",
        "print(\"Hello World!\")"
      ],
      "metadata": {
        "id": "RI65-J3ZnmM1"
      },
      "execution_count": null,
      "outputs": []
    },
    {
      "cell_type": "code",
      "source": [
        "# Variables String (Básico)\n",
        "\n",
        "name = \"Miguel\"\n",
        "lastname = \"Ortiz\"\n",
        "\n",
        "print(name, lastname)"
      ],
      "metadata": {
        "id": "lH12QuatoC8Q"
      },
      "execution_count": null,
      "outputs": []
    },
    {
      "cell_type": "code",
      "source": [
        "# Type\n",
        "\n",
        "fullname = \"Miguel Ortiz\"\n",
        "print(type(fullname))"
      ],
      "metadata": {
        "id": "yWtEsxlioZpx"
      },
      "execution_count": null,
      "outputs": []
    },
    {
      "cell_type": "code",
      "source": [
        "# Más variables\n",
        "\n",
        "n = 5\n",
        "r = 2.14\n",
        "soleado = True\n",
        "pet = \"Perro\"\n",
        "\n",
        "print(type(n))\n",
        "print(type(r))\n",
        "print(type(soleado))\n",
        "print(type(pet))"
      ],
      "metadata": {
        "id": "BSNfzn5-osPm"
      },
      "execution_count": null,
      "outputs": []
    },
    {
      "cell_type": "code",
      "source": [],
      "metadata": {
        "id": "_dxQ_8FAqewu"
      },
      "execution_count": null,
      "outputs": []
    }
  ]
}