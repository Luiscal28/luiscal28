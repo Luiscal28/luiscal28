{
  "cells": [
    {
      "cell_type": "markdown",
      "metadata": {
        "id": "view-in-github",
        "colab_type": "text"
      },
      "source": [
        "<a href=\"https://colab.research.google.com/github/Luiscal28/luiscal28/blob/luiscal28's-branch/adivinanza.ipynb\" target=\"_parent\"><img src=\"https://colab.research.google.com/assets/colab-badge.svg\" alt=\"Open In Colab\"/></a>"
      ]
    },
    {
      "source": [
        "matrix=[]\n",
        "rows = 3\n",
        "columns = 3\n",
        "counter = 1\n",
        "\n",
        "for i in range(rows):\n",
        "    temp_rows = []\n",
        "    for j in range(columns):\n",
        "        temp_rows.append(counter)\n",
        "        counter += 1\n",
        "    matrix.append(temp_rows)\n",
        "\n",
        "#print(matrix)\n",
        "matrix_rows = len(matrix)\n",
        "if matrix_rows > 0:\n",
        "  matrix_columns = len(matrix[0])\n",
        "for i in range(len(matrix)):\n",
        "    for j in range(len(matrix[i])):\n",
        "      print(matrix[i][j], end=\" \")\n",
        "    print()"
      ],
      "cell_type": "code",
      "metadata": {
        "id": "3nhAQMsmsyYq",
        "outputId": "b5548085-637a-47d5-ee6e-721149ef671c",
        "colab": {
          "base_uri": "https://localhost:8080/"
        }
      },
      "execution_count": null,
      "outputs": [
        {
          "output_type": "stream",
          "name": "stdout",
          "text": [
            "1 2 3 \n",
            "4 5 6 \n",
            "7 8 9 \n"
          ]
        }
      ]
    },
    {
      "source": [
        "path = '/content/secret_message.txt'\n",
        "with open(path) as file_info:\n",
        "  message = file_info.read()\n",
        "\n",
        "print(message)"
      ],
      "cell_type": "code",
      "metadata": {
        "id": "yCrv-IEBJYuI"
      },
      "execution_count": null,
      "outputs": []
    },
    {
      "cell_type": "code",
      "source": [
        "path = '/content/LDLL.text'\n",
        "with open(path) as file_info:\n",
        "  message = file_info.read()\n",
        "\n",
        "print(message)"
      ],
      "metadata": {
        "id": "WGNFCUd1KC1H"
      },
      "execution_count": null,
      "outputs": []
    },
    {
      "source": [
        "import random\n",
        "\n",
        "def random_number():\n",
        "\n",
        "  random_number = random.randint(1, 20)\n",
        "  file_path = \"/content/random_number.txt\"\n",
        "  with open(file_path, \"a\") as file:\n",
        "    file.write(str(random_number))\n",
        "  return random_number\n",
        "\n",
        "random_number = random_number()\n",
        "print(\"The random number is:\", random_number)"
      ],
      "cell_type": "code",
      "metadata": {
        "id": "B0vAlvBTUJtU",
        "outputId": "9b6f5880-e0ee-4ae1-909d-5e42e3d47fb6",
        "colab": {
          "base_uri": "https://localhost:8080/"
        }
      },
      "execution_count": null,
      "outputs": [
        {
          "output_type": "stream",
          "name": "stdout",
          "text": [
            "The random number is: 4\n"
          ]
        }
      ]
    },
    {
      "source": [
        "import random\n",
        "import string\n",
        "import time\n",
        "from IPython.display import clear_output\n",
        "\n",
        "def generate_random_matrix(n, random_char):\n",
        "  matrix = []\n",
        "  for i in range(n):\n",
        "    row = []\n",
        "    for j in range(n):\n",
        "      random_char = random.choice(string.ascii_letters + string.digits + string.punctuation)\n",
        "      row.append(random_char)\n",
        "    matrix.append(row)\n",
        "  return matrix\n",
        "\n",
        "def show_board(random_matrix):\n",
        "   for row in random_matrix:\n",
        "    for element in row:\n",
        "         print(element, end=\" \")\n",
        "    print()\n",
        "\n",
        "def hide_value(random_matrix):\n",
        "  max = len(random_matrix)-1\n",
        "  row=random.randint(0, max)\n",
        "  column=random.randint(0, max)\n",
        "  secret_value = random_matrix[row][column]\n",
        "  random_matrix[row][column] = \"?\"\n",
        "  return secret_value, random_matrix\n",
        "\n",
        "def play_game(n, random_char):\n",
        "   random_matrix = generate_random_matrix(n, random_char)\n",
        "   show_board(random_matrix)\n",
        "   secret_value, random_matrix = hide_value(random_matrix)\n",
        "   show_board(random_matrix)\n",
        "\n",
        "def main():\n",
        "    print(\"Bienvenido\")\n",
        "    n = int(input(\"ingrese el tamaño de la tabla: \"))\n",
        "    random_char = random.choice(string.ascii_letters + string.digits + string.punctuation)\n",
        "    play_game(n, random_char)\n",
        "    while True:\n",
        "        play_again = input(\"¿Quieres jugar de nuevo? (s/n): \").lower()\n",
        "        if play_again != 's':\n",
        "            break\n",
        "        play_game(random_char = random.choice(string.ascii_letters + string.digits + string.punctuation))\n",
        "\n",
        "if __name__ == \"__main__\":\n",
        "    main()\n",
        "\n",
        "    #falta el def del timepo"
      ],
      "cell_type": "code",
      "metadata": {
        "id": "z8nh0xh1_Pjx",
        "outputId": "30835f43-2426-49d4-e95a-30f70c6507b3",
        "colab": {
          "base_uri": "https://localhost:8080/",
          "height": 460
        }
      },
      "execution_count": 57,
      "outputs": [
        {
          "output_type": "stream",
          "name": "stdout",
          "text": [
            "Bienvenido\n",
            "ingrese el tamaño de la tabla: 3\n",
            "# 0 U \n",
            "4 I J \n",
            "# s q \n",
            "# 0 U \n",
            "4 I J \n",
            "# s ? \n"
          ]
        },
        {
          "output_type": "error",
          "ename": "KeyboardInterrupt",
          "evalue": "Interrupted by user",
          "traceback": [
            "\u001b[0;31m---------------------------------------------------------------------------\u001b[0m",
            "\u001b[0;31mKeyboardInterrupt\u001b[0m                         Traceback (most recent call last)",
            "\u001b[0;32m<ipython-input-57-2210aa699fd9>\u001b[0m in \u001b[0;36m<cell line: 45>\u001b[0;34m()\u001b[0m\n\u001b[1;32m     44\u001b[0m \u001b[0;34m\u001b[0m\u001b[0m\n\u001b[1;32m     45\u001b[0m \u001b[0;32mif\u001b[0m \u001b[0m__name__\u001b[0m \u001b[0;34m==\u001b[0m \u001b[0;34m\"__main__\"\u001b[0m\u001b[0;34m:\u001b[0m\u001b[0;34m\u001b[0m\u001b[0;34m\u001b[0m\u001b[0m\n\u001b[0;32m---> 46\u001b[0;31m     \u001b[0mmain\u001b[0m\u001b[0;34m(\u001b[0m\u001b[0;34m)\u001b[0m\u001b[0;34m\u001b[0m\u001b[0;34m\u001b[0m\u001b[0m\n\u001b[0m",
            "\u001b[0;32m<ipython-input-57-2210aa699fd9>\u001b[0m in \u001b[0;36mmain\u001b[0;34m()\u001b[0m\n\u001b[1;32m     38\u001b[0m     \u001b[0mplay_game\u001b[0m\u001b[0;34m(\u001b[0m\u001b[0mn\u001b[0m\u001b[0;34m,\u001b[0m \u001b[0mrandom_char\u001b[0m\u001b[0;34m)\u001b[0m\u001b[0;34m\u001b[0m\u001b[0;34m\u001b[0m\u001b[0m\n\u001b[1;32m     39\u001b[0m     \u001b[0;32mwhile\u001b[0m \u001b[0;32mTrue\u001b[0m\u001b[0;34m:\u001b[0m\u001b[0;34m\u001b[0m\u001b[0;34m\u001b[0m\u001b[0m\n\u001b[0;32m---> 40\u001b[0;31m         \u001b[0mplay_again\u001b[0m \u001b[0;34m=\u001b[0m \u001b[0minput\u001b[0m\u001b[0;34m(\u001b[0m\u001b[0;34m\"¿Quieres jugar de nuevo? (s/n): \"\u001b[0m\u001b[0;34m)\u001b[0m\u001b[0;34m.\u001b[0m\u001b[0mlower\u001b[0m\u001b[0;34m(\u001b[0m\u001b[0;34m)\u001b[0m\u001b[0;34m\u001b[0m\u001b[0;34m\u001b[0m\u001b[0m\n\u001b[0m\u001b[1;32m     41\u001b[0m         \u001b[0;32mif\u001b[0m \u001b[0mplay_again\u001b[0m \u001b[0;34m!=\u001b[0m \u001b[0;34m's'\u001b[0m\u001b[0;34m:\u001b[0m\u001b[0;34m\u001b[0m\u001b[0;34m\u001b[0m\u001b[0m\n\u001b[1;32m     42\u001b[0m             \u001b[0;32mbreak\u001b[0m\u001b[0;34m\u001b[0m\u001b[0;34m\u001b[0m\u001b[0m\n",
            "\u001b[0;32m/usr/local/lib/python3.10/dist-packages/ipykernel/kernelbase.py\u001b[0m in \u001b[0;36mraw_input\u001b[0;34m(self, prompt)\u001b[0m\n\u001b[1;32m    849\u001b[0m                 \u001b[0;34m\"raw_input was called, but this frontend does not support input requests.\"\u001b[0m\u001b[0;34m\u001b[0m\u001b[0;34m\u001b[0m\u001b[0m\n\u001b[1;32m    850\u001b[0m             )\n\u001b[0;32m--> 851\u001b[0;31m         return self._input_request(str(prompt),\n\u001b[0m\u001b[1;32m    852\u001b[0m             \u001b[0mself\u001b[0m\u001b[0;34m.\u001b[0m\u001b[0m_parent_ident\u001b[0m\u001b[0;34m,\u001b[0m\u001b[0;34m\u001b[0m\u001b[0;34m\u001b[0m\u001b[0m\n\u001b[1;32m    853\u001b[0m             \u001b[0mself\u001b[0m\u001b[0;34m.\u001b[0m\u001b[0m_parent_header\u001b[0m\u001b[0;34m,\u001b[0m\u001b[0;34m\u001b[0m\u001b[0;34m\u001b[0m\u001b[0m\n",
            "\u001b[0;32m/usr/local/lib/python3.10/dist-packages/ipykernel/kernelbase.py\u001b[0m in \u001b[0;36m_input_request\u001b[0;34m(self, prompt, ident, parent, password)\u001b[0m\n\u001b[1;32m    893\u001b[0m             \u001b[0;32mexcept\u001b[0m \u001b[0mKeyboardInterrupt\u001b[0m\u001b[0;34m:\u001b[0m\u001b[0;34m\u001b[0m\u001b[0;34m\u001b[0m\u001b[0m\n\u001b[1;32m    894\u001b[0m                 \u001b[0;31m# re-raise KeyboardInterrupt, to truncate traceback\u001b[0m\u001b[0;34m\u001b[0m\u001b[0;34m\u001b[0m\u001b[0m\n\u001b[0;32m--> 895\u001b[0;31m                 \u001b[0;32mraise\u001b[0m \u001b[0mKeyboardInterrupt\u001b[0m\u001b[0;34m(\u001b[0m\u001b[0;34m\"Interrupted by user\"\u001b[0m\u001b[0;34m)\u001b[0m \u001b[0;32mfrom\u001b[0m \u001b[0;32mNone\u001b[0m\u001b[0;34m\u001b[0m\u001b[0;34m\u001b[0m\u001b[0m\n\u001b[0m\u001b[1;32m    896\u001b[0m             \u001b[0;32mexcept\u001b[0m \u001b[0mException\u001b[0m \u001b[0;32mas\u001b[0m \u001b[0me\u001b[0m\u001b[0;34m:\u001b[0m\u001b[0;34m\u001b[0m\u001b[0;34m\u001b[0m\u001b[0m\n\u001b[1;32m    897\u001b[0m                 \u001b[0mself\u001b[0m\u001b[0;34m.\u001b[0m\u001b[0mlog\u001b[0m\u001b[0;34m.\u001b[0m\u001b[0mwarning\u001b[0m\u001b[0;34m(\u001b[0m\u001b[0;34m\"Invalid Message:\"\u001b[0m\u001b[0;34m,\u001b[0m \u001b[0mexc_info\u001b[0m\u001b[0;34m=\u001b[0m\u001b[0;32mTrue\u001b[0m\u001b[0;34m)\u001b[0m\u001b[0;34m\u001b[0m\u001b[0;34m\u001b[0m\u001b[0m\n",
            "\u001b[0;31mKeyboardInterrupt\u001b[0m: Interrupted by user"
          ]
        }
      ]
    }
  ],
  "metadata": {
    "colab": {
      "name": "Te damos la bienvenida a Colaboratory",
      "provenance": [],
      "include_colab_link": true
    },
    "kernelspec": {
      "display_name": "Python 3",
      "name": "python3"
    }
  },
  "nbformat": 4,
  "nbformat_minor": 0
}