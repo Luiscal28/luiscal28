{
  "cells": [
    {
      "cell_type": "markdown",
      "metadata": {
        "id": "view-in-github",
        "colab_type": "text"
      },
      "source": [
        "<a href=\"https://colab.research.google.com/github/Luiscal28/luiscal28/blob/luiscal28's-branch/cartas.ipynb\" target=\"_parent\"><img src=\"https://colab.research.google.com/assets/colab-badge.svg\" alt=\"Open In Colab\"/></a>"
      ]
    },
    {
      "cell_type": "code",
      "source": [
        "matrix = []\n",
        "rows = 2\n",
        "columns = 3\n",
        "counter = 1\n",
        "for i in range(rows):\n",
        "  temp_row = []\n",
        "  for j in range(columns):\n",
        "    temp_row.append(counter)\n",
        "    # temp.append(\" _ \")\n",
        "    counter += 1\n",
        "  matrix.append(temp_row)\n",
        "\n",
        "# print(matrix)\n",
        "\n",
        "matrix_rows = len(matrix)\n",
        "if matrix_rows > 0:\n",
        "  matrix_columns = len(matrix[0])\n",
        "for i in range(matrix_rows):\n",
        "  for j in range(matrix_columns):\n",
        "    print(matrix[i][j], end=\" \")\n",
        "  print()"
      ],
      "metadata": {
        "id": "qEgI7ZvvdHer",
        "outputId": "23f5078b-0ffd-4292-9b54-5cf3c2d7c623",
        "colab": {
          "base_uri": "https://localhost:8080/"
        }
      },
      "execution_count": 1,
      "outputs": [
        {
          "output_type": "stream",
          "name": "stdout",
          "text": [
            "1 2 3 \n",
            "4 5 6 \n"
          ]
        }
      ]
    },
    {
      "cell_type": "code",
      "source": [
        "import random\n",
        "import time\n",
        "from IPython.display import clear_output\n",
        "import copy\n",
        "\n",
        "rows = 2\n",
        "columns = 3\n",
        "cards_back = [[\"|_|\"for i  in range(columns)] for i in range(rows)]\n",
        "options=['J','J','Q','Q','K','K']\n",
        "game_cards = [[\"\"for i in range(columns)] for i in range(rows)]\n",
        "\n",
        "for i in range(len(game_cards)):\n",
        "  for j in range(len(game_cards[i])):\n",
        "    random_card=random.choice(options)\n",
        "    game_cards[i][j]=random_card\n",
        "    options.remove(random_card)\n",
        "\n",
        "def show_cards(cards):\n",
        "  for i in range(len(cards)):\n",
        "    for j in range(len(cards[i])):\n",
        "      print(cards[i][j],end=\" \")\n",
        "    print(\"\\n\")\n",
        "restantes = rows * columns\n",
        "\n",
        "t = 2\n",
        "show_cards(cards_back)\n",
        "time.sleep(t)\n",
        "clear_output()\n",
        "show_cards(game_cards)\n",
        "time.sleep(t)\n",
        "clear_output()\n",
        "show_cards(cards_back)\n",
        "temp_cards = copy.deepcopy(cards_back)\n",
        "\n",
        "row1 = int(input(\"Indique la fila: \"))\n",
        "column1 = int(input(\"Indique la columna: \"))\n",
        "\n",
        "temp_cards =cards_back\n",
        "choice1=game_cards[row1][column1]\n",
        "temp_cards[row1][column1] = choice1\n",
        "clear_output()\n",
        "show_cards(temp_cards)\n",
        "\n",
        "row2 = int(input(\"Indique la fila: \"))\n",
        "column2 = int(input(\"Indique la columna: \"))\n",
        "\n",
        "temp_cards = cards_back\n",
        "choice2=game_cards[row2][column2]\n",
        "temp_cards[row2][column2] = choice2\n",
        "clear_output()\n",
        "show_cards(temp_cards)\n",
        "if choice1 == choice2:\n",
        "  temp_cards[row1][column1]= \"  \"\n",
        "  temp_cards[row2][column2]= \"  \"\n",
        "  clear_output()\n",
        "  show_cards(temp_cards)\n",
        "  restantes-=2\n",
        "else:\n",
        "  clear_output()\n",
        "  show_cards(cards_back)\n",
        "\n",
        "while restantes > 0:\n",
        "  row1 = int(input(\"Indique la fila: \"))\n",
        "column1 = int(input(\"Indique la columna: \"))\n",
        "choice1=game_cards[row1][column1]\n",
        "temp_cards[row1][column1] = choice1\n",
        "clear_output()\n",
        "show_cards(temp_cards)\n",
        "row2 = int(input(\"Indique la fila: \"))\n",
        "column2 = int(input(\"Indique la columna: \"))\n",
        "choice2=game_cards[row2][column2]\n",
        "temp_cards[row2][column2] = choice2\n",
        "clear_output()\n",
        "show_cards(temp_cards)\n",
        "if choice1 == choice2:\n",
        "  temp_cards[row1][column1]= \"  \"\n",
        "  temp_cards[row2][column2]= \"  \"\n",
        "  clear_output()\n",
        "  show_cards(temp_cards)\n",
        "  restantes-=2\n",
        "else:\n",
        "  clear_output()\n",
        "  show_cards(cards_back)\n",
        ""
      ],
      "metadata": {
        "id": "OSfPBIhRdmFE"
      },
      "execution_count": null,
      "outputs": []
    }
  ],
  "metadata": {
    "colab": {
      "name": "Te damos la bienvenida a Colaboratory",
      "toc_visible": true,
      "provenance": [],
      "include_colab_link": true
    },
    "kernelspec": {
      "display_name": "Python 3",
      "name": "python3"
    }
  },
  "nbformat": 4,
  "nbformat_minor": 0
}