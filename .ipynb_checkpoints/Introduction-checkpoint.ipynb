{
 "cells": [
  {
   "cell_type": "markdown",
   "metadata": {
    "colab_type": "text",
    "id": "view-in-github"
   },
   "source": [
    "<a href=\"https://colab.research.google.com/github/Mikheltodd/introductionupb202410/blob/main/Introduction.ipynb\" target=\"_parent\"><img src=\"https://colab.research.google.com/assets/colab-badge.svg\" alt=\"Open In Colab\"/></a>"
   ]
  },
  {
   "cell_type": "markdown",
   "metadata": {
    "id": "VZA-YfwKnBbc"
   },
   "source": [
    "# Introducción a Python\n",
    "## Fundamentos de Programación\n",
    "### Ingeniería Electrónica UPB Montería (202410)\n",
    "- Docente: Miguel Ortiz\n",
    "- email: miguel.ortizp@upb.edu.co\n"
   ]
  },
  {
   "cell_type": "code",
   "execution_count": null,
   "metadata": {
    "id": "egjbI1I1msBR"
   },
   "outputs": [],
   "source": [
    "# Comentarios\n",
    "\n",
    "# Todo lo que aparezca después de un # se considera un comentario\n",
    "# Sirven para:\n",
    "# - Dar información (contexto)\n",
    "# - Ayuda futura / Documentar\n",
    "# - Hacer pruebas"
   ]
  },
  {
   "cell_type": "code",
   "execution_count": null,
   "metadata": {
    "id": "RI65-J3ZnmM1"
   },
   "outputs": [],
   "source": [
    "# Print\n",
    "\n",
    "print(\"Hello World!\")"
   ]
  },
  {
   "cell_type": "code",
   "execution_count": null,
   "metadata": {
    "id": "lH12QuatoC8Q"
   },
   "outputs": [],
   "source": [
    "# Variables String (Básico)\n",
    "\n",
    "name = \"Miguel\"\n",
    "lastname = \"Ortiz\"\n",
    "\n",
    "print(name, lastname)"
   ]
  },
  {
   "cell_type": "code",
   "execution_count": null,
   "metadata": {
    "id": "yWtEsxlioZpx"
   },
   "outputs": [],
   "source": [
    "# Type\n",
    "\n",
    "fullname = \"Miguel Ortiz\"\n",
    "print(type(fullname))"
   ]
  },
  {
   "cell_type": "code",
   "execution_count": null,
   "metadata": {
    "id": "BSNfzn5-osPm"
   },
   "outputs": [],
   "source": [
    "# Más variables\n",
    "\n",
    "n = 5\n",
    "r = 2.14\n",
    "soleado = True\n",
    "pet = \"Perro\"\n",
    "\n",
    "print(type(n))\n",
    "print(type(r))\n",
    "print(type(soleado))\n",
    "print(type(pet))"
   ]
  },
  {
   "cell_type": "code",
   "execution_count": null,
   "metadata": {
    "id": "_dxQ_8FAqewu"
   },
   "outputs": [],
   "source": [
    "a = 3\n",
    "b = -5\n",
    "c = a + b\n",
    "print(c)"
   ]
  },
  {
   "cell_type": "code",
   "execution_count": 3,
   "metadata": {
    "id": "Eg40YRe1sDM-"
   },
   "outputs": [
    {
     "name": "stdout",
     "output_type": "stream",
     "text": [
      "13\n"
     ]
    }
   ],
   "source": [
    "m = 3\n",
    "b = -2\n",
    "x = 5\n",
    "y = m *  x + b  \n",
    "print(y)"
   ]
  },
  {
   "cell_type": "code",
   "execution_count": null,
   "metadata": {},
   "outputs": [],
   "source": []
  }
 ],
 "metadata": {
  "colab": {
   "authorship_tag": "ABX9TyODMjKyO58stRnApZGMZbjw",
   "include_colab_link": true,
   "private_outputs": true,
   "provenance": []
  },
  "kernelspec": {
   "display_name": "Python 3 (ipykernel)",
   "language": "python",
   "name": "python3"
  },
  "language_info": {
   "codemirror_mode": {
    "name": "ipython",
    "version": 3
   },
   "file_extension": ".py",
   "mimetype": "text/x-python",
   "name": "python",
   "nbconvert_exporter": "python",
   "pygments_lexer": "ipython3",
   "version": "3.12.1"
  }
 },
 "nbformat": 4,
 "nbformat_minor": 4
}
